{
 "cells": [
  {
   "cell_type": "markdown",
   "metadata": {
    "collapsed": true,
    "pycharm": {
     "name": "#%% md\n"
    }
   },
   "source": [
    "[//]:# (This lab is based on https://sandipanweb.wordpress.com/2020/12/08/travelling-salesman-problem-tsp-with-python/)\n",
    "# Travelling salesman problem\n",
    "TSP is a well known problem that we can formulate as this:\n",
    "\n",
    "A salesman wants to visit some cities each exactly once then return to the\n",
    "starting city, given the distance between the cities calculate the rout with\n",
    "the least total distance."
   ]
  },
  {
   "cell_type": "code",
   "execution_count": 1,
   "metadata": {
    "pycharm": {
     "name": "#%%\n"
    }
   },
   "outputs": [],
   "source": [
    "from itertools import permutations, combinations\n",
    "from time import time\n",
    "import numpy as np\n",
    "from tqdm import tqdm"
   ]
  },
  {
   "cell_type": "code",
   "execution_count": 2,
   "metadata": {
    "pycharm": {
     "name": "#%%\n"
    }
   },
   "outputs": [],
   "source": [
    "# https://developers.google.com/optimization/routing/tsp\n",
    "# Distances matrix, dist[i][j] -> distance from city_i to city_j\n",
    "dist = np.array([\n",
    "    [0, 2451, 713, 1018, 1631, 1374, 2408, 213, 2571, 875, 1420, 2145, 1972],\n",
    "    [2451, 0, 1745, 1524, 831, 1240, 959, 2596, 403, 1589, 1374, 357, 579],\n",
    "    [713, 1745, 0, 355, 920, 803, 1737, 851, 1858, 262, 940, 1453, 1260],\n",
    "    [1018, 1524, 355, 0, 700, 862, 1395, 1123, 1584, 466, 1056, 1280, 987],\n",
    "    [1631, 831, 920, 700, 0, 663, 1021, 1769, 949, 796, 879, 586, 371],\n",
    "    [1374, 1240, 803, 862, 663, 0, 1681, 1551, 1765, 547, 225, 887, 999],\n",
    "    [2408, 959, 1737, 1395, 1021, 1681, 0, 2493, 678, 1724, 1891, 1114, 701],\n",
    "    [213, 2596, 851, 1123, 1769, 1551, 2493, 0, 2699, 1038, 1605, 2300, 2099],\n",
    "    [2571, 403, 1858, 1584, 949, 1765, 678, 2699, 0, 1744, 1645, 653, 600],\n",
    "    [875, 1589, 262, 466, 796, 547, 1724, 1038, 1744, 0, 679, 1272, 1162],\n",
    "    [1420, 1374, 940, 1056, 879, 225, 1891, 1605, 1645, 679, 0, 1017, 1200],\n",
    "    [2145, 357, 1453, 1280, 586, 887, 1114, 2300, 653, 1272, 1017, 0, 504],\n",
    "    [1972, 579, 1260, 987, 371, 999, 701, 2099, 600, 1162, 1200, 504, 0],\n",
    "])"
   ]
  },
  {
   "cell_type": "markdown",
   "metadata": {},
   "source": [
    "Best route and best score for this problem are: \n",
    "\n",
    "**best_route** = [0, 7, 2, 3, 4, 12, 6, 8, 1, 11, 10, 5, 9]\n",
    "\n",
    "**best_score** = 7293.0"
   ]
  },
  {
   "cell_type": "markdown",
   "metadata": {
    "pycharm": {
     "name": "#%% md\n"
    }
   },
   "source": [
    "# Genetics Algorithms\n",
    "> Machines would be more useful if they could learn to perform tasks for which\n",
    "> they were not given precise methods.\n",
    ">\n",
    "> --Richard Friedberg [Friedberg, 1958]\n",
    "\n",
    "GAs can be applied to many problems that is difficult to calculate an exact\n",
    "solution.\n",
    "\n",
    "The main principles of GAs are:\n",
    "1. A biological system includes a population of individuals, many of which have the ability to reproduce.\n",
    "2. The individuals have a finite life span.\n",
    "3. There is variation in the population.\n",
    "4. The ability to survive is positively correlated with the ability to reproduce.\n",
    "\n",
    "![GA steps](https://www.tutorialspoint.com/genetic_algorithms/images/basic_structure.jpg)\n",
    "\n",
    "\n",
    "For GA we need the following:\n",
    "- Express a possible solution as a gene\n",
    "- Fitness function\n",
    "- Mutation function\n",
    "- Crossover\n",
    "- Selection criteria\n",
    "    - Rank selection: The individuals with the highest fitness survive\n",
    "    - Fitness proportionate: $P_{survival}(i) = \\frac{Fitness(i)}{\\sum_j^n Fitness(j)}$"
   ]
  },
  {
   "cell_type": "code",
   "execution_count": 26,
   "metadata": {
    "pycharm": {
     "name": "#%%\n"
    }
   },
   "outputs": [],
   "source": [
    "import numpy as np\n",
    "import random\n",
    "import matplotlib.pyplot as plt\n",
    "from tqdm.notebook import tqdm\n",
    "%matplotlib inline\n",
    "# Fill the following functions\n",
    "\n",
    "def do_crossover(s1, s2):\n",
    "    # TODO: write a reasonable crossover\n",
    "    # TODO: should return two children\n",
    "    \n",
    "    m = random.randint(1, len(s1) - 1)\n",
    "    child = [None] * len(s1)\n",
    "    # in child fix genes of s1 that are contained in s2 (starting from gene m)\n",
    "    for i in range(m):\n",
    "        if s1[i] in s2[m:]:\n",
    "            child[i] = s1[i]\n",
    "            s1[i] = None\n",
    "            s2[s2.index(child[i])] = None\n",
    "\n",
    "    # add to child genes of s2 starting from m\n",
    "    for i in range(m, len(s2)):\n",
    "        if s2[i] is not None:\n",
    "            child[i] = s2[i]\n",
    "            s1[s1.index(child[i])] = None\n",
    "            \n",
    "    # fill blank spaces of the child with numbers which haven't been added yet\n",
    "    # in the same order as it is in s1\n",
    "    child_i, i1 = 0, 0\n",
    "    while i1 < len(child) and child_i < len(child):\n",
    "        while i1 < len(child) and s1[i1] is None:\n",
    "            i1 += 1\n",
    "        while child_i < len(child) and child[child_i] is not None:\n",
    "            child_i += 1\n",
    "            \n",
    "        if i1 < len(child) and child_i < len(child):\n",
    "            child[child_i] = s1[i1]\n",
    "            i1 += 1\n",
    "            child_i += 1\n",
    "            \n",
    "    return child\n",
    "\n",
    "# mutation_p - important!\n",
    "# too high - almost a random search\n",
    "# too low - no variability\n",
    "def do_mutation(individual, mutation_p): \n",
    "    if random.random() < mutation_p:\n",
    "        i1, i2 = np.random.choice(np.arange(len(individual)), size=(2,), replace=False)\n",
    "        individual[i1], individual[i2] = individual[i2], individual[i1]\n",
    "    return individual\n",
    "\n",
    "def compute_fitness(G, s):\n",
    "    total_distance = G[s[-1], s[0]]\n",
    "    for i in range(len(s) - 1):\n",
    "        total_distance += G[s[i], s[i + 1]]\n",
    "\n",
    "    return total_distance\n",
    "\n",
    "def get_elite(G, gen, k):\n",
    "    gen = sorted(gen, key=lambda x: compute_fitness(G, x))\n",
    "    return gen[:k]\n",
    "\n",
    "def generate_population(n, k):\n",
    "    pop = []\n",
    "    example = np.arange(k)\n",
    "    for i in range(n):\n",
    "        np.random.shuffle(example)\n",
    "        pop.append(example.copy())\n",
    "    return np.array(pop)\n",
    "\n",
    "def make_children(population, fitness):\n",
    "    # It is a minimization problem in our task\n",
    "    # But roulette selection of parents assumes a maximization problem\n",
    "    # Therefore I invert the fitnesses and add some value to them so that they become positive.\n",
    "    # In such a way an individual with highest fitness will get the lowest probability\n",
    "    max_fit = fitness.max() + 1000\n",
    "    probs = (max_fit - fitness) / np.sum(max_fit - fitness)\n",
    "    children = []\n",
    "    indices = np.arange(len(population))\n",
    "    parent_indices = np.random.choice(indices, size=2*len(indices), p=probs, replace=True)\n",
    "    for i in range(0, len(parent_indices) - 1, 2):\n",
    "        p1, p2 = population[parent_indices[i]], population[parent_indices[i + 1]]\n",
    "        # produce offsprings\n",
    "        child = do_crossover(p1.tolist(), p2.tolist())\n",
    "        children.append(np.array(child))\n",
    "\n",
    "    return children\n",
    "\n",
    "def TSP_GA(G, k=30, ntrial = 1000, keep_parents=None, mutation_p=0.02, show_graphs=False):\n",
    "    population = generate_population(k, len(G))\n",
    "    best_fitnesses = []\n",
    "    mean_fitnesses = []\n",
    "    trials = range(ntrial)\n",
    "    if show_graphs:\n",
    "        trials = tqdm(trials)\n",
    "        \n",
    "    for trial in trials:\n",
    "        fitnesses = list(map(lambda x: compute_fitness(G, x), population))\n",
    "        fitnesses = np.array(fitnesses)\n",
    "        # for evolution visualization\n",
    "        best_fitnesses.append(np.min(fitnesses))\n",
    "        mean_fitnesses.append(np.mean(fitnesses))\n",
    "        \n",
    "        # create children\n",
    "        children = make_children(population, fitnesses)\n",
    "        children = list(map(lambda x: do_mutation(x, mutation_p), children))\n",
    "        if keep_parents is not None:\n",
    "            # get 'keep_parents' most fitted parent individuals\n",
    "            elite = get_elite(G, population, keep_parents)\n",
    "            # sort children \n",
    "            sorted_children = get_elite(G, children, len(children))\n",
    "            population = sorted_children[:-1] + elite\n",
    "        else:\n",
    "            population = children\n",
    "        \n",
    "    # best score on the last generation\n",
    "    fitnesses = list(map(lambda x: compute_fitness(G, x), population))\n",
    "    best_individual_index = np.argmin(fitnesses)\n",
    "    \n",
    "    # visualize evolution process\n",
    "    if show_graphs:\n",
    "        plt.plot(best_fitnesses, color='red')\n",
    "        plt.plot(mean_fitnesses, color='blue')\n",
    "        plt.show()\n",
    "        \n",
    "    return fitnesses[best_individual_index], population[best_individual_index]"
   ]
  },
  {
   "cell_type": "code",
   "execution_count": 31,
   "metadata": {},
   "outputs": [
    {
     "data": {
      "application/vnd.jupyter.widget-view+json": {
       "model_id": "a3facdb832f14d84b89c7070d2a35de1",
       "version_major": 2,
       "version_minor": 0
      },
      "text/plain": [
       "  0%|          | 0/1000 [00:00<?, ?it/s]"
      ]
     },
     "metadata": {},
     "output_type": "display_data"
    },
    {
     "data": {
      "image/png": "[encoded data removed]",
      "text/plain": [
       "<Figure size 432x288 with 1 Axes>"
      ]
     },
     "metadata": {
      "needs_background": "light"
     },
     "output_type": "display_data"
    },
    {
     "data": {
      "text/plain": [
       "(7293, array([12,  6,  8,  1, 11, 10,  5,  9,  0,  7,  2,  3,  4]))"
      ]
     },
     "execution_count": 31,
     "metadata": {},
     "output_type": "execute_result"
    }
   ],
   "source": [
    "TSP_GA(dist, keep_parents=1, mutation_p=0.2, show_graphs=True)"
   ]
  },
  {
   "cell_type": "markdown",
   "metadata": {
    "pycharm": {
     "name": "#%% md\n"
    }
   },
   "source": [
    "What is the effect of letting the parents survive?\n",
    "\n",
    "To evaluate the performance of GA we take an average since it's a\n",
    "nondeterministic approximation algorithm."
   ]
  },
  {
   "cell_type": "code",
   "execution_count": 32,
   "metadata": {
    "pycharm": {
     "name": "#%%\n"
    },
    "scrolled": true
   },
   "outputs": [
    {
     "data": {
      "application/vnd.jupyter.widget-view+json": {
       "model_id": "a88bbc8b08c74fd18defed9d5a12b2e9",
       "version_major": 2,
       "version_minor": 0
      },
      "text/plain": [
       "  0%|          | 0/20 [00:00<?, ?it/s]"
      ]
     },
     "metadata": {},
     "output_type": "display_data"
    },
    {
     "name": "stdout",
     "output_type": "stream",
     "text": [
      "best_route: [ 1 11 10  5  9  0  7  2  3  4 12  6  8]\n",
      "mean score: 7460.3\n",
      "mean time:  1.022s\n"
     ]
    },
    {
     "data": {
      "application/vnd.jupyter.widget-view+json": {
       "model_id": "23194ff9f9e04dcab049116f24b5607b",
       "version_major": 2,
       "version_minor": 0
      },
      "text/plain": [
       "  0%|          | 0/20 [00:00<?, ?it/s]"
      ]
     },
     "metadata": {},
     "output_type": "display_data"
    },
    {
     "name": "stdout",
     "output_type": "stream",
     "text": [
      "best_route: [ 9  5 10 11  1  8  6 12  4  3  2  7  0]\n",
      "mean score: 7418.25\n",
      "mean time:  1.538s\n"
     ]
    }
   ],
   "source": [
    "# Results for GA without saving most fitted parents\n",
    "n_tests = 20\n",
    "scores = []\n",
    "times = []\n",
    "best_score, best_route = None, None\n",
    "for i in tqdm(range(n_tests)):\n",
    "    start_time = time()\n",
    "    if best_score is None and best_route is None:\n",
    "        best_score, best_route = TSP_GA(dist, k = 100, ntrial=500, mutation_p=0.15)\n",
    "        scores.append(best_score)\n",
    "    else:\n",
    "        score, route = TSP_GA(dist, k = 100, ntrial=500, mutation_p=0.15)\n",
    "        if score < best_score:\n",
    "            best_route = route\n",
    "            best_score = score\n",
    "        scores.append(score)\n",
    "\n",
    "    total_time = time() - start_time\n",
    "    times.append(total_time)\n",
    "\n",
    "\n",
    "print(f\"best_route: {best_route}\")\n",
    "print(f\"mean score: {np.mean(scores)}\")\n",
    "print(f\"mean time: {np.mean(total_time): 0.3f}s\")\n",
    "\n",
    "# Results for GA with saving most fitted parents\n",
    "best_score, best_route = None, None\n",
    "for i in tqdm(range(n_tests)):\n",
    "    start_time = time()\n",
    "    if best_score is None and best_route is None:\n",
    "        best_score, best_route = TSP_GA(dist, k = 100, ntrial=500, mutation_p=0.15, keep_parents=1)\n",
    "        scores.append(best_score)\n",
    "    else:\n",
    "        score, route = TSP_GA(dist, k = 100, ntrial=500, mutation_p=0.15, keep_parents=1)\n",
    "        if score < best_score:\n",
    "            best_route = route\n",
    "            best_score = score\n",
    "        scores.append(score)\n",
    "\n",
    "    total_time = time() - start_time\n",
    "    times.append(total_time)\n",
    "\n",
    "print(f\"best_route: {best_route}\")\n",
    "print(f\"mean score: {np.mean(scores)}\")\n",
    "print(f\"mean time: {np.mean(total_time): 0.3f}s\")\n",
    "\n"
   ]
  }
 ],
 "metadata": {
  "kernelspec": {
   "display_name": "Python [conda env:test]",
   "language": "python",
   "name": "conda-env-test-py"
  },
  "language_info": {
   "codemirror_mode": {
    "name": "ipython",
    "version": 3
   },
   "file_extension": ".py",
   "mimetype": "text/x-python",
   "name": "python",
   "nbconvert_exporter": "python",
   "pygments_lexer": "ipython3",
   "version": "3.10.4"
  }
 },
 "nbformat": 4,
 "nbformat_minor": 1
}
