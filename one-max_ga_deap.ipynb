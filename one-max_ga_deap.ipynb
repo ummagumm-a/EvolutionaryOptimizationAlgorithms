{
 "cells": [
  {
   "cell_type": "markdown",
   "id": "74269431",
   "metadata": {},
   "source": [
    "The goal of this excerices is to get familiar with DEAP library.\n",
    "\n",
    "I took the one-max task. At first, all individuals are random bit strings. We evolve our population until one of individuals contains only 1's and no 0's."
   ]
  },
  {
   "cell_type": "code",
   "execution_count": 84,
   "id": "24a50727",
   "metadata": {},
   "outputs": [],
   "source": [
    "import random\n",
    "\n",
    "from deap import base, creator, tools\n",
    "import numpy as np\n",
    "import matplotlib.pyplot as plt"
   ]
  },
  {
   "cell_type": "markdown",
   "id": "aff8741d",
   "metadata": {},
   "source": [
    "Define classes for fitness and individual"
   ]
  },
  {
   "cell_type": "code",
   "execution_count": 85,
   "id": "2e894e7d",
   "metadata": {},
   "outputs": [],
   "source": [
    "creator.create('FitnessMax', base.Fitness, weights=(1.0,))\n",
    "creator.create('Individual', list, fitness=creator.FitnessMax)"
   ]
  },
  {
   "cell_type": "code",
   "execution_count": 86,
   "id": "c37d6e84",
   "metadata": {},
   "outputs": [],
   "source": [
    "toolbox = base.Toolbox()\n",
    "# genes of individual are randomly initialized with 0 or 1\n",
    "toolbox.register('attr_bool', random.randint, 0, 1)\n",
    "# here we say that we repeatedly apply 'attr_bool' 100 and put results into Individual\n",
    "# Thus, we initialize our Individual with a random bit string of length 100\n",
    "toolbox.register('individual', tools.initRepeat, creator.Individual, toolbox.attr_bool, 100)\n",
    "# initialize population by creating N inidividuals\n",
    "toolbox.register('population', tools.initRepeat, list, toolbox.individual)"
   ]
  },
  {
   "cell_type": "markdown",
   "id": "2f0a3923",
   "metadata": {},
   "source": [
    "Evaluation functions. Here we just count number of 1's in an individual."
   ]
  },
  {
   "cell_type": "code",
   "execution_count": 87,
   "id": "ce154146",
   "metadata": {},
   "outputs": [],
   "source": [
    "def evalOneMax(individual):\n",
    "    return sum(individual),"
   ]
  },
  {
   "cell_type": "markdown",
   "id": "67058ff2",
   "metadata": {},
   "source": [
    "Define genetic operators."
   ]
  },
  {
   "cell_type": "code",
   "execution_count": 88,
   "id": "04029068",
   "metadata": {},
   "outputs": [],
   "source": [
    "toolbox.register('evaluate', evalOneMax)\n",
    "toolbox.register('mate', tools.cxTwoPoint)\n",
    "toolbox.register('mutate', tools.mutFlipBit, indpb=0.05)\n",
    "toolbox.register('select', tools.selTournament, tournsize=3)"
   ]
  },
  {
   "cell_type": "markdown",
   "id": "b13cd0b7",
   "metadata": {},
   "source": [
    "Define probabilites:\n",
    "* CXPB - probability with which two individuals cross\n",
    "* MUTPB - probability of an individual being mutated"
   ]
  },
  {
   "cell_type": "code",
   "execution_count": 89,
   "id": "9b21303a",
   "metadata": {},
   "outputs": [],
   "source": [
    "CXPB, MUTPB = 0.5, 0.2"
   ]
  },
  {
   "cell_type": "code",
   "execution_count": 90,
   "id": "e5433456",
   "metadata": {},
   "outputs": [],
   "source": [
    "def main():\n",
    "    # logs for visualization\n",
    "    mins, maxes, avgs = [], [], []\n",
    "    \n",
    "    pop = toolbox.population(n=300)\n",
    "    fitnesses = list(map(toolbox.evaluate, pop))\n",
    "    for ind, fit in zip(pop, fitnesses):\n",
    "        ind.fitness.values = fit\n",
    "        \n",
    "    fits = [ind.fitness.values[0] for ind in pop]\n",
    "    g = 0\n",
    "    while max(fits) < 100 and g < 1000:\n",
    "        g += 1\n",
    "        \n",
    "        # select the next generation individuals\n",
    "        offspring = toolbox.select(pop, len(pop))\n",
    "        # Since toolbox operators will modify objects inplace,\n",
    "        # we need to clone each individuals to avoid any\n",
    "        # unexpected side effects\n",
    "        offspring = list(map(toolbox.clone, offspring))\n",
    "\n",
    "        for child1, child2 in zip(offspring[::2], offspring[1::2]):\n",
    "            if random.random() < CXPB:\n",
    "                toolbox.mate(child1, child2)\n",
    "                # mark fitnesses of modified individuals\n",
    "                # as invalid. In the future we will need to\n",
    "                # reevaluate fitness of each individual,\n",
    "                # but we'll do it only for modified ones\n",
    "                # to save resources\n",
    "                del child1.fitness.values\n",
    "                del child2.fitness.values\n",
    "\n",
    "        for mutant in offspring:\n",
    "            if random.random() < MUTPB:\n",
    "                toolbox.mutate(mutant)\n",
    "                del mutant.fitness.values\n",
    "\n",
    "        invalid_ind = [ind for ind in offspring if not ind.fitness.valid]\n",
    "        fitnesses = map(toolbox.evaluate, invalid_ind)\n",
    "        for ind, fit in zip(invalid_ind, fitnesses):\n",
    "            ind.fitness.values = fit\n",
    "\n",
    "        # offspring are a new population now\n",
    "        pop[:] = offspring\n",
    "\n",
    "        fits = [ind.fitness.values[0] for ind in pop]\n",
    "        # log info about current generation fitnesses\n",
    "        mins.append(np.min(fits))\n",
    "        maxes.append(np.max(fits))\n",
    "        avgs.append(np.mean(fits))\n",
    "        \n",
    "    # visualize evolution\n",
    "    plt.plot(mins, color='red')\n",
    "    plt.plot(maxes, color='orange')\n",
    "    plt.plot(avgs, color='blue')\n",
    "    plt.show()\n",
    "    "
   ]
  },
  {
   "cell_type": "code",
   "execution_count": 57,
   "id": "863d43b1",
   "metadata": {
    "scrolled": true
   },
   "outputs": [
    {
     "data": {
      "image/png": "[encoded data removed]",
      "text/plain": [
       "<Figure size 432x288 with 1 Axes>"
      ]
     },
     "metadata": {
      "needs_background": "light"
     },
     "output_type": "display_data"
    }
   ],
   "source": [
    "main()"
   ]
  },
  {
   "cell_type": "markdown",
   "id": "d3b3504d",
   "metadata": {},
   "source": [
    "### A shorter version\n",
    "Make use of **algorithms** package"
   ]
  },
  {
   "cell_type": "code",
   "execution_count": 91,
   "id": "d0390fca",
   "metadata": {},
   "outputs": [],
   "source": [
    "from deap import algorithms"
   ]
  },
  {
   "cell_type": "code",
   "execution_count": 92,
   "id": "ef529984",
   "metadata": {},
   "outputs": [],
   "source": [
    "def main():\n",
    "    pop = toolbox.population(n=300)\n",
    "    hof = tools.HallOfFame(1)\n",
    "    stats = tools.Statistics(lambda ind: ind.fitness.values)\n",
    "    stats.register('avg', np.mean)\n",
    "    stats.register('std', np.std)\n",
    "    stats.register('min', np.min)\n",
    "    stats.register('max', np.max)\n",
    "    \n",
    "    pop, log = algorithms.eaSimple(pop, toolbox, cxpb=0.5, mutpb=0.2, ngen=40,\n",
    "                                   stats=stats, halloffame=hof, verbose=False)\n",
    "    \n",
    "    # visualize evolution\n",
    "#     plt.plot(list(map(lambda x: x['min'], log)), color='red')\n",
    "#     plt.plot(list(map(lambda x: x['max'], log)), color='orange')\n",
    "#     plt.plot(list(map(lambda x: x['avg'], log)), color='blue')\n",
    "#     plt.show()\n",
    "    return pop, log, hof"
   ]
  },
  {
   "cell_type": "code",
   "execution_count": 80,
   "id": "388c09b2",
   "metadata": {},
   "outputs": [
    {
     "name": "stdout",
     "output_type": "stream",
     "text": [
      "619 ms ± 4.42 ms per loop (mean ± std. dev. of 7 runs, 1 loop each)\n"
     ]
    }
   ],
   "source": [
    "%timeit pop, log, hof = main()"
   ]
  },
  {
   "cell_type": "markdown",
   "id": "f7d36fe5",
   "metadata": {},
   "source": [
    "### Numpy version\n",
    "Individual class in inherited from numpy.ndarray instead of python list."
   ]
  },
  {
   "cell_type": "code",
   "execution_count": 71,
   "id": "f35a399a",
   "metadata": {},
   "outputs": [],
   "source": [
    "creator.create(\"Individual\", np.ndarray, fitness=creator.FitnessMax)"
   ]
  },
  {
   "cell_type": "markdown",
   "id": "20585f13",
   "metadata": {},
   "source": [
    "Copy is required because slice of numpy array returns a view. So we cannot make swap correctly."
   ]
  },
  {
   "cell_type": "code",
   "execution_count": 72,
   "id": "535d2b53",
   "metadata": {},
   "outputs": [],
   "source": [
    "def cxTwoPointCopy(ind1, ind2):\n",
    "    size = len(ind1)\n",
    "    cxpoint1 = random.randint(1, size)\n",
    "    cxpoint2 = random.randint(1, size - 1)\n",
    "    if cxpoint2 >= cxpoint1:\n",
    "        cxpoint2 += 1\n",
    "    else:\n",
    "        cxpoint1, cxpoint2 = cxpoint2, cxpoint1\n",
    "        \n",
    "    ind1[cxpoint1:cxpoint2], ind2[cxpoint1:cxpoint2] \\\n",
    "        = ind2[cxpoint1:cxpoint2].copy(), ind2[cxpoint1:cxpoint2].copy()\n",
    "    \n",
    "    return ind1, ind2"
   ]
  },
  {
   "cell_type": "code",
   "execution_count": 73,
   "id": "ee2abb25",
   "metadata": {},
   "outputs": [],
   "source": [
    "toolbox.register('mate', cxTwoPointCopy)"
   ]
  },
  {
   "cell_type": "code",
   "execution_count": 78,
   "id": "7fa9158d",
   "metadata": {},
   "outputs": [],
   "source": [
    "def main():\n",
    "    pop = toolbox.population(n=300)\n",
    "    hof = tools.HallOfFame(1, similar=np.array_equal)\n",
    "    stats = tools.Statistics(lambda ind: ind.fitness.values)\n",
    "    stats.register('avg', np.mean)\n",
    "    stats.register('std', np.std)\n",
    "    stats.register('min', np.min)\n",
    "    stats.register('max', np.max)\n",
    "    \n",
    "    \n",
    "    pop, log = algorithms.eaSimple(pop, toolbox, cxpb=0.5, mutpb=0.2, ngen=40,\n",
    "                                   stats=stats, halloffame=hof, verbose=False)\n",
    "    \n",
    "    # visualize evolution\n",
    "#     plt.plot(list(map(lambda x: x['min'], log)), color='red')\n",
    "#     plt.plot(list(map(lambda x: x['max'], log)), color='orange')\n",
    "#     plt.plot(list(map(lambda x: x['avg'], log)), color='blue')\n",
    "#     plt.show()\n",
    "    return pop, log, hof"
   ]
  },
  {
   "cell_type": "code",
   "execution_count": 79,
   "id": "4be8a840",
   "metadata": {},
   "outputs": [
    {
     "name": "stdout",
     "output_type": "stream",
     "text": [
      "624 ms ± 9.54 ms per loop (mean ± std. dev. of 7 runs, 1 loop each)\n"
     ]
    }
   ],
   "source": [
    "%timeit _ = main()"
   ]
  },
  {
   "cell_type": "markdown",
   "id": "f55fd079",
   "metadata": {},
   "source": [
    "## Now let's play a bit"
   ]
  },
  {
   "cell_type": "code",
   "execution_count": 93,
   "id": "a062a71e",
   "metadata": {},
   "outputs": [],
   "source": [
    "creator.create('FitnessMax', base.Fitness, weights=(1.0,))\n",
    "creator.create('Individual', list, fitness=creator.FitnessMax)"
   ]
  },
  {
   "cell_type": "code",
   "execution_count": 94,
   "id": "7c27db76",
   "metadata": {},
   "outputs": [],
   "source": [
    "toolbox = base.Toolbox()\n",
    "# genes of individual are randomly initialized with 0 or 1\n",
    "toolbox.register('attr_bool', random.randint, 0, 1)\n",
    "# here we say that we repeatedly apply 'attr_bool' 100 and put results into Individual\n",
    "# Thus, we initialize our Individual with a random bit string of length 100\n",
    "toolbox.register('individual', tools.initRepeat, creator.Individual, toolbox.attr_bool, 30)\n",
    "# initialize population by creating N inidividuals\n",
    "toolbox.register('population', tools.initRepeat, list, toolbox.individual)"
   ]
  },
  {
   "cell_type": "code",
   "execution_count": 96,
   "id": "b5d7e9eb",
   "metadata": {},
   "outputs": [],
   "source": [
    "def evalOneMax(individual):\n",
    "    return sum(individual),"
   ]
  },
  {
   "cell_type": "code",
   "execution_count": 145,
   "id": "a89be8be",
   "metadata": {},
   "outputs": [],
   "source": [
    "toolbox.register('evaluate', evalOneMax)\n",
    "toolbox.register('mate', tools.cxTwoPoint)\n",
    "toolbox.register('mutate', tools.mutFlipBit, indpb=0.01)\n",
    "toolbox.register('select', tools.selRoulette)"
   ]
  },
  {
   "cell_type": "code",
   "execution_count": 146,
   "id": "e316baac",
   "metadata": {},
   "outputs": [],
   "source": [
    "def main(npop=20, ngen=100):\n",
    "    pop = toolbox.population(n=npop)\n",
    "    hof = tools.HallOfFame(1)\n",
    "    stats = tools.Statistics(lambda ind: ind.fitness.values)\n",
    "    stats.register('avg', np.mean)\n",
    "    stats.register('std', np.std)\n",
    "    stats.register('min', np.min)\n",
    "    stats.register('max', np.max)\n",
    "    \n",
    "    pop, log = algorithms.eaSimple(pop, toolbox, cxpb=1.0, mutpb=1.0, ngen=ngen,\n",
    "                                   stats=stats, halloffame=hof, verbose=False)\n",
    "    \n",
    "    return pop, log, hof"
   ]
  },
  {
   "cell_type": "markdown",
   "id": "5445e3e8",
   "metadata": {},
   "source": [
    "Run 50 Monte-Carlo simulations and average the results"
   ]
  },
  {
   "cell_type": "markdown",
   "id": "9a00383e",
   "metadata": {},
   "source": [
    "The results are not satisfactory. Maybe it is because I use roulette selection, and since all fitnesses are somewhere in the range (18, 25), they have almost the same probability ($\\pm1\\%$) of being chosen as parents. Therefore, the most fit do not have that big advantage of propagating their genes."
   ]
  },
  {
   "cell_type": "code",
   "execution_count": 147,
   "id": "00ba619b",
   "metadata": {},
   "outputs": [
    {
     "data": {
      "image/png": "[encoded data removed]",
      "text/plain": [
       "<Figure size 432x288 with 1 Axes>"
      ]
     },
     "metadata": {
      "needs_background": "light"
     },
     "output_type": "display_data"
    }
   ],
   "source": [
    "logs = []\n",
    "for i in range(50):\n",
    "    pop, log, hof = main(ngen=200)\n",
    "    logs.append(log)\n",
    "    \n",
    "min_logs = list(map(lambda log: list(map(lambda x: x['min'], log)), logs))\n",
    "min_logs = np.mean(min_logs, axis=0)\n",
    "max_logs = list(map(lambda log: list(map(lambda x: x['max'], log)), logs))\n",
    "max_logs = np.mean(max_logs, axis=0)\n",
    "avg_logs = list(map(lambda log: list(map(lambda x: x['avg'], log)), logs))\n",
    "avg_logs = np.mean(avg_logs, axis=0)\n",
    "# visualize evolution\n",
    "plt.plot(min_logs, color='red', label='min')\n",
    "plt.plot(max_logs, color='orange', label='max')\n",
    "plt.plot(avg_logs, color='blue', label='avg')\n",
    "plt.legend(loc='best')\n",
    "plt.show()"
   ]
  },
  {
   "cell_type": "markdown",
   "id": "9de35ee1",
   "metadata": {},
   "source": [
    "If I change population size to 40, the graphs shift up. We obtain a slightly better result, however none of individuals still don't reach the state with all 1's.\n",
    "\n",
    "Why is it better? Probably because we have more variability in population, so we have a bit greater number of fit individuals.\n",
    "\n"
   ]
  },
  {
   "cell_type": "code",
   "execution_count": 148,
   "id": "87f33cf0",
   "metadata": {},
   "outputs": [
    {
     "data": {
      "image/png": "[encoded data removed]",
      "text/plain": [
       "<Figure size 432x288 with 1 Axes>"
      ]
     },
     "metadata": {
      "needs_background": "light"
     },
     "output_type": "display_data"
    }
   ],
   "source": [
    "logs = []\n",
    "for i in range(50):\n",
    "    pop, log, hof = main(npop=40, ngen=200)\n",
    "    logs.append(log)\n",
    "    \n",
    "min_logs = list(map(lambda log: list(map(lambda x: x['min'], log)), logs))\n",
    "min_logs = np.mean(min_logs, axis=0)\n",
    "max_logs = list(map(lambda log: list(map(lambda x: x['max'], log)), logs))\n",
    "max_logs = np.mean(max_logs, axis=0)\n",
    "avg_logs = list(map(lambda log: list(map(lambda x: x['avg'], log)), logs))\n",
    "avg_logs = np.mean(avg_logs, axis=0)\n",
    "# visualize evolution\n",
    "plt.plot(min_logs, color='red', label='min')\n",
    "plt.plot(max_logs, color='orange', label='max')\n",
    "plt.plot(avg_logs, color='blue', label='avg')\n",
    "plt.legend(loc='best')\n",
    "plt.show()"
   ]
  },
  {
   "cell_type": "markdown",
   "id": "ab76f99c",
   "metadata": {},
   "source": [
    "Increase probability of gene mutation to 5%. Performance decreased. It is probably due to too much randomness in population."
   ]
  },
  {
   "cell_type": "code",
   "execution_count": 159,
   "id": "c7d7e072",
   "metadata": {},
   "outputs": [],
   "source": [
    "toolbox.register('mutate', tools.mutFlipBit, indpb=0.05)"
   ]
  },
  {
   "cell_type": "code",
   "execution_count": 160,
   "id": "a0bda0d2",
   "metadata": {},
   "outputs": [
    {
     "data": {
      "image/png": "[encoded data removed]",
      "text/plain": [
       "<Figure size 432x288 with 1 Axes>"
      ]
     },
     "metadata": {
      "needs_background": "light"
     },
     "output_type": "display_data"
    }
   ],
   "source": [
    "logs = []\n",
    "for i in range(50):\n",
    "    pop, log, hof = main(npop=20, ngen=200)\n",
    "    logs.append(log)\n",
    "    \n",
    "min_logs = list(map(lambda log: list(map(lambda x: x['min'], log)), logs))\n",
    "min_logs = np.mean(min_logs, axis=0)\n",
    "max_logs = list(map(lambda log: list(map(lambda x: x['max'], log)), logs))\n",
    "max_logs = np.mean(max_logs, axis=0)\n",
    "avg_logs = list(map(lambda log: list(map(lambda x: x['avg'], log)), logs))\n",
    "avg_logs = np.mean(avg_logs, axis=0)\n",
    "# visualize evolution\n",
    "plt.plot(min_logs, color='red', label='min')\n",
    "plt.plot(max_logs, color='orange', label='max')\n",
    "plt.plot(avg_logs, color='blue', label='avg')\n",
    "plt.legend(loc='best')\n",
    "plt.show()"
   ]
  },
  {
   "cell_type": "markdown",
   "id": "7070ef72",
   "metadata": {},
   "source": [
    "If we turn off mutation, the graphs converge to a single point. We do not have any randomness in our population, so there is no exploration in our algorithm. It just converges to the best solution it can get with available individuals"
   ]
  },
  {
   "cell_type": "code",
   "execution_count": 161,
   "id": "94a5bf5d",
   "metadata": {},
   "outputs": [],
   "source": [
    "toolbox.register('mutate', tools.mutFlipBit, indpb=0.00)"
   ]
  },
  {
   "cell_type": "code",
   "execution_count": 163,
   "id": "9cc95a87",
   "metadata": {},
   "outputs": [
    {
     "data": {
      "image/png": "[encoded data removed]",
      "text/plain": [
       "<Figure size 432x288 with 1 Axes>"
      ]
     },
     "metadata": {
      "needs_background": "light"
     },
     "output_type": "display_data"
    }
   ],
   "source": [
    "logs = []\n",
    "for i in range(50):\n",
    "    pop, log, hof = main(npop=20, ngen=200)\n",
    "    logs.append(log)\n",
    "    \n",
    "min_logs = list(map(lambda log: list(map(lambda x: x['min'], log)), logs))\n",
    "min_logs = np.mean(min_logs, axis=0)\n",
    "max_logs = list(map(lambda log: list(map(lambda x: x['max'], log)), logs))\n",
    "max_logs = np.mean(max_logs, axis=0)\n",
    "avg_logs = list(map(lambda log: list(map(lambda x: x['avg'], log)), logs))\n",
    "avg_logs = np.mean(avg_logs, axis=0)\n",
    "# visualize evolution\n",
    "plt.plot(min_logs, color='red', label='min')\n",
    "plt.plot(max_logs, color='orange', label='max')\n",
    "plt.plot(avg_logs, color='blue', label='avg')\n",
    "plt.legend(loc='best')\n",
    "plt.show()"
   ]
  },
  {
   "cell_type": "markdown",
   "id": "7c8dc31e",
   "metadata": {},
   "source": [
    "If we add 50 to each fitness value, the results start to look like a horizontal line. The reason is that now all probabilities are almost the same, so the most fit individuals have almost no advantage over less fit ones. That means that their genes do not have higher probability to propagate further."
   ]
  },
  {
   "cell_type": "code",
   "execution_count": 164,
   "id": "513b5ff9",
   "metadata": {},
   "outputs": [],
   "source": [
    "def evalOneMax(individual):\n",
    "    return sum(individual) + 50,"
   ]
  },
  {
   "cell_type": "code",
   "execution_count": 165,
   "id": "183ef0b4",
   "metadata": {},
   "outputs": [],
   "source": [
    "toolbox.register('evaluate', evalOneMax)\n",
    "toolbox.register('mate', tools.cxTwoPoint)\n",
    "toolbox.register('mutate', tools.mutFlipBit, indpb=0.01)\n",
    "toolbox.register('select', tools.selRoulette)"
   ]
  },
  {
   "cell_type": "code",
   "execution_count": 166,
   "id": "d261863f",
   "metadata": {},
   "outputs": [
    {
     "data": {
      "image/png": "[encoded data removed]",
      "text/plain": [
       "<Figure size 432x288 with 1 Axes>"
      ]
     },
     "metadata": {
      "needs_background": "light"
     },
     "output_type": "display_data"
    }
   ],
   "source": [
    "logs = []\n",
    "for i in range(50):\n",
    "    pop, log, hof = main(npop=20, ngen=200)\n",
    "    logs.append(log)\n",
    "    \n",
    "min_logs = list(map(lambda log: list(map(lambda x: x['min'], log)), logs))\n",
    "min_logs = np.mean(min_logs, axis=0) - 50\n",
    "max_logs = list(map(lambda log: list(map(lambda x: x['max'], log)), logs))\n",
    "max_logs = np.mean(max_logs, axis=0) - 50\n",
    "avg_logs = list(map(lambda log: list(map(lambda x: x['avg'], log)), logs))\n",
    "avg_logs = np.mean(avg_logs, axis=0) - 50\n",
    "# visualize evolution\n",
    "plt.plot(min_logs, color='red', label='min')\n",
    "plt.plot(max_logs, color='orange', label='max')\n",
    "plt.plot(avg_logs, color='blue', label='avg')\n",
    "plt.legend(loc='best')\n",
    "plt.show()"
   ]
  },
  {
   "cell_type": "markdown",
   "id": "01b4b4f4",
   "metadata": {},
   "source": [
    "If an individual has fitness less than average - set it to 0. Now, algorithm succeeds to reach the maximum value, because most fit individuals have clear advantage over less fit ones, so their genes are much more likely to propagate further."
   ]
  },
  {
   "cell_type": "code",
   "execution_count": 172,
   "id": "55796d7f",
   "metadata": {},
   "outputs": [],
   "source": [
    "def evalOneMax(individual):\n",
    "    return sum(individual),"
   ]
  },
  {
   "cell_type": "code",
   "execution_count": 173,
   "id": "4181ef39",
   "metadata": {},
   "outputs": [],
   "source": [
    "toolbox.register('evaluate', evalOneMax)\n",
    "toolbox.register('mate', tools.cxTwoPoint)\n",
    "toolbox.register('mutate', tools.mutFlipBit, indpb=0.01)\n",
    "toolbox.register('select', tools.selRoulette)"
   ]
  },
  {
   "cell_type": "code",
   "execution_count": 174,
   "id": "9d9e9098",
   "metadata": {},
   "outputs": [],
   "source": [
    "CXPB, MUTPB = 1.0, 1.0"
   ]
  },
  {
   "cell_type": "code",
   "execution_count": 198,
   "id": "7574a601",
   "metadata": {},
   "outputs": [],
   "source": [
    "def main(npop, ngen):\n",
    "    # logs for visualization\n",
    "    mins, maxes, avgs = [], [], []\n",
    "    \n",
    "    pop = toolbox.population(n=npop)\n",
    "    fitnesses = list(map(toolbox.evaluate, pop))\n",
    "    for ind, fit in zip(pop, fitnesses):\n",
    "        ind.fitness.values = fit if fit >= (np.mean(fitnesses),) else (0,)\n",
    "        \n",
    "    fits = [ind.fitness.values[0] for ind in pop]\n",
    "    g = 0\n",
    "    while max(fits) < 100 and g < ngen:\n",
    "        g += 1\n",
    "        \n",
    "        # select the next generation individuals\n",
    "        offspring = toolbox.select(pop, len(pop))\n",
    "        # Since toolbox operators will modify objects inplace,\n",
    "        # we need to clone each individuals to avoid any\n",
    "        # unexpected side effects\n",
    "        offspring = list(map(toolbox.clone, offspring))\n",
    "\n",
    "        for child1, child2 in zip(offspring[::2], offspring[1::2]):\n",
    "            if random.random() < CXPB:\n",
    "                toolbox.mate(child1, child2)\n",
    "                # mark fitnesses of modified individuals\n",
    "                # as invalid. In the future we will need to\n",
    "                # reevaluate fitness of each individual,\n",
    "                # but we'll do it only for modified ones\n",
    "                # to save resources\n",
    "                del child1.fitness.values\n",
    "                del child2.fitness.values\n",
    "\n",
    "        for mutant in offspring:\n",
    "            if random.random() < MUTPB:\n",
    "                toolbox.mutate(mutant)\n",
    "                del mutant.fitness.values\n",
    "\n",
    "        invalid_ind = [ind for ind in offspring if not ind.fitness.valid]\n",
    "        fitnesses = list(map(toolbox.evaluate, invalid_ind))\n",
    "        for ind, fit in zip(invalid_ind, fitnesses):\n",
    "            ind.fitness.values = fit if fit >= (np.mean(fitnesses),) else (0,)\n",
    "\n",
    "        # offspring are a new population now\n",
    "        pop[:] = offspring\n",
    "\n",
    "        fits = [ind.fitness.values[0] for ind in pop]\n",
    "        # log info about current generation fitnesses\n",
    "        mins.append(np.min(fits))\n",
    "        maxes.append(np.max(fits))\n",
    "        avgs.append(np.mean(fits))\n",
    "        \n",
    "    return mins, maxes, avgs\n",
    "    "
   ]
  },
  {
   "cell_type": "code",
   "execution_count": 199,
   "id": "dfb7c30b",
   "metadata": {},
   "outputs": [
    {
     "data": {
      "image/png": "[encoded data removed]",
      "text/plain": [
       "<Figure size 432x288 with 1 Axes>"
      ]
     },
     "metadata": {
      "needs_background": "light"
     },
     "output_type": "display_data"
    }
   ],
   "source": [
    "min_logs, max_logs, avg_logs = [], [], []\n",
    "for i in range(50):\n",
    "    mins, maxes, avgs = main(npop=20, ngen=200)\n",
    "    min_logs.append(mins)\n",
    "    max_logs.append(maxes)\n",
    "    avg_logs.append(avgs)\n",
    "    \n",
    "min_logs = np.mean(min_logs, axis=0)\n",
    "max_logs = np.mean(max_logs, axis=0)\n",
    "avg_logs = np.mean(avg_logs, axis=0)\n",
    "# visualize evolution\n",
    "plt.plot(min_logs, color='red', label='min')\n",
    "plt.plot(max_logs, color='orange', label='max')\n",
    "plt.plot(avg_logs, color='blue', label='avg')\n",
    "plt.legend(loc='best')\n",
    "plt.show()"
   ]
  },
  {
   "cell_type": "markdown",
   "id": "400b5b17",
   "metadata": {},
   "source": [
    "# Summary\n",
    "Two main conclusions that we can draw:\n",
    "* It is important to pass the right amount of randomness into algorithm. Too much - it is a random search. Too low - no exporation.\n",
    "* For roulette selection it is crucial that the most fit individuals have a clear advantage. Otherwise, if their probabilities of selection are almost the same as those of less fit ones, their genes will not propagate into future generations."
   ]
  },
  {
   "cell_type": "code",
   "execution_count": null,
   "id": "904c32eb",
   "metadata": {},
   "outputs": [],
   "source": []
  }
 ],
 "metadata": {
  "kernelspec": {
   "display_name": "Python [conda env:test]",
   "language": "python",
   "name": "conda-env-test-py"
  },
  "language_info": {
   "codemirror_mode": {
    "name": "ipython",
    "version": 3
   },
   "file_extension": ".py",
   "mimetype": "text/x-python",
   "name": "python",
   "nbconvert_exporter": "python",
   "pygments_lexer": "ipython3",
   "version": "3.10.4"
  }
 },
 "nbformat": 4,
 "nbformat_minor": 5
}
